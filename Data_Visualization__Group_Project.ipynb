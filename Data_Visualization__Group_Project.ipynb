{
  "nbformat": 4,
  "nbformat_minor": 0,
  "metadata": {
    "colab": {
      "provenance": [],
      "collapsed_sections": [
        "6bBcedsL-2tB",
        "WKP_-DflDSHJ"
      ],
      "authorship_tag": "ABX9TyOn9/BUOyKvfVGJj0jp74bi",
      "include_colab_link": true
    },
    "kernelspec": {
      "name": "python3",
      "display_name": "Python 3"
    },
    "language_info": {
      "name": "python"
    }
  },
  "cells": [
    {
      "cell_type": "markdown",
      "metadata": {
        "id": "view-in-github",
        "colab_type": "text"
      },
      "source": [
        "<a href=\"https://colab.research.google.com/github/Group-ProjectE17/Data-visualization/blob/main/Data_Visualization__Group_Project.ipynb\" target=\"_parent\"><img src=\"https://colab.research.google.com/assets/colab-badge.svg\" alt=\"Open In Colab\"/></a>"
      ]
    },
    {
      "cell_type": "markdown",
      "source": [
        "#Setup"
      ],
      "metadata": {
        "id": "4OnzeA5oxcmg"
      }
    },
    {
      "cell_type": "code",
      "source": [
        "#import libraries\n",
        "\n",
        "import plotly.express as px\n",
        "import pandas as pd\n",
        "import io\n",
        "from google.colab import files\n",
        "import plotly.graph_objs as go\n",
        "import plotly.figure_factory as ff\n",
        "import matplotlib.pyplot as plt\n",
        "import numpy as np\n",
        "\n",
        "from google.colab import drive\n",
        "drive.mount('/content/drive')\n",
        "\n",
        "#FUNCTIONS####################\n",
        "#Ploting\n",
        "\n",
        "#Histograms\n",
        "# ploty\n",
        "def plot_histograms(data_frame,data_coloum,col='blue'):\n",
        "  fig = px.histogram(data_frame, x=data_coloum,  title=data_coloum, opacity=0.9,color_discrete_sequence=[col] , nbins=200)\n",
        "  fig.update(layout_title_text='Data distributions of '+data_coloum)\n",
        "  fig.show()\n",
        "\n",
        "#Matplotlib\n",
        "def plot_histograms_plt(data_frame,data,col=\"blue\"):\n",
        "  plt.hist(data_frame[data],bins=100 ,color=col, alpha=0.7, density=True)\n",
        "  plt.title('Data distribution of'+data)\n",
        "  plt.ylabel(\"Probability\")\n",
        "  plt.xlabel(data)\n",
        "  plt.show()\n",
        "\n",
        "#(2) Dash plots\n",
        "def plot_DashPlot(data_frame,data_coloum,col='#F66095'):\n",
        "   hist_data =[data_frame[data_coloum]]\n",
        "   group_labels = [data_coloum] \n",
        "   fig = ff.create_distplot(hist_data, group_labels,bin_size=[0.1],colors=[col])\n",
        "   fig.show()\n",
        "\n",
        "#(Box plot)\n",
        "def plot_BoxPlot(data_frame,data_coloum,col='#F66095'):\n",
        "   fig = px.box(data_frame, y=data_coloum,points='all')\n",
        "   fig.update(layout_title_text='Boxplot of '+data_coloum)\n",
        "   fig.show()\n",
        "\n",
        "#(Scatter plots)\n",
        "def plot_ScatterPlot(data_frame,input,output,col='blue'):\n",
        "   fig = px.scatter(data_frame, x=input, y=output,color_discrete_sequence=[col])\n",
        "   fig.update(layout_title_text='Variatios of ' +input +' Vs '+output)\n",
        "   fig.show()\n",
        "   "
      ],
      "metadata": {
        "id": "1pfKilZJxf_e",
        "outputId": "82ef95ce-c096-4386-d59c-77356ddc0a25",
        "colab": {
          "base_uri": "https://localhost:8080/"
        }
      },
      "execution_count": 23,
      "outputs": [
        {
          "output_type": "stream",
          "name": "stdout",
          "text": [
            "Drive already mounted at /content/drive; to attempt to forcibly remount, call drive.mount(\"/content/drive\", force_remount=True).\n"
          ]
        }
      ]
    },
    {
      "cell_type": "markdown",
      "source": [
        "#Data"
      ],
      "metadata": {
        "id": "2vNb0hPgF_34"
      }
    },
    {
      "cell_type": "code",
      "source": [
        "csvFilePath='/content/drive/My Drive/Project_3rd_year/Data/{}'\n",
        "columns=['Input1','Input2','Input3','Input4','Output1','Output2','Output3','Output4','Output5']\n",
        "axial_data_frame=pd.read_csv(csvFilePath.format('UnitCell_Axial_Data_Complete.csv'),header=None)\n",
        "axial_data_frame.columns=columns\n",
        "bending_data_frame=pd.read_csv(csvFilePath.format('UnitCell_Bending_Data_Complete.csv'),header=None)\n",
        "bending_data_frame.columns=columns\n",
        "twisting_data_frame=pd.read_csv(csvFilePath.format('UnitCell_Twist_Data_Complete.csv'),header=None)\n",
        "twisting_data_frame.columns=columns\n",
        "\n"
      ],
      "metadata": {
        "id": "xjfjM4pLGFk4"
      },
      "execution_count": 4,
      "outputs": []
    },
    {
      "cell_type": "code",
      "source": [
        "index1=np.arange(1,1436)\n",
        "axial_data_frame['Index'] = index1\n",
        "index2=np.arange(1,1405)\n",
        "bending_data_frame['Index'] = index2\n",
        "index3=np.arange(1,504)\n",
        "twisting_data_frame['Index'] = index3\n",
        "\n",
        "axial_data_input=axial_data_frame[['Index','Input1','Input2','Input3','Input4']]\n",
        "bending_data_input=bending_data_frame[['Index','Input1','Input2','Input3','Input4']]\n",
        "twisting_input=twisting_data_frame[['Index','Input1','Input2','Input3','Input4']]\n",
        "\n",
        "axial_data_output=axial_data_frame[['Index','Output1','Output2','Output3','Output4','Output5']]\n",
        "bending_data_output=bending_data_frame[['Index','Output1','Output2','Output3','Output4','Output5']]\n",
        "twisting_data_output=twisting_data_frame[['Index','Output1','Output2','Output3','Output4','Output5']]\n",
        "\n"
      ],
      "metadata": {
        "id": "pQhj0btWX6Ir"
      },
      "execution_count": 18,
      "outputs": []
    },
    {
      "cell_type": "markdown",
      "source": [
        "#Axial Data"
      ],
      "metadata": {
        "id": "k841jd9VWWwj"
      }
    },
    {
      "cell_type": "markdown",
      "source": [
        "##Data distributions"
      ],
      "metadata": {
        "id": "XG3Wky6V0Z3W"
      }
    },
    {
      "cell_type": "markdown",
      "source": [
        "###Histogram Plots"
      ],
      "metadata": {
        "id": "6bBcedsL-2tB"
      }
    },
    {
      "cell_type": "code",
      "source": [
        "for label in axial_data_frame:\n",
        "  plot_histograms(axial_data_frame,label)\n",
        "\n",
        " "
      ],
      "metadata": {
        "id": "5NFSoy3l_D35"
      },
      "execution_count": null,
      "outputs": []
    },
    {
      "cell_type": "markdown",
      "source": [
        "###Scatter Plots"
      ],
      "metadata": {
        "id": "WKP_-DflDSHJ"
      }
    },
    {
      "cell_type": "code",
      "source": [
        "fig=go.Figure()\n",
        "scatterData=axial_data_frame\n",
        "xcol='Index'\n",
        "for ycol in ['Output1','Output2','Output3','Output4','Output5']:\n",
        "    fig=go.Figure()\n",
        "    fig.add_trace(go.Scatter(x=scatterData[xcol].to_list(), y=scatterData[ycol].to_list(),mode='markers',name=ycol))\n",
        "    fig.show()\n"
      ],
      "metadata": {
        "id": "LGOn-bQDdBwE"
      },
      "execution_count": null,
      "outputs": []
    },
    {
      "cell_type": "code",
      "source": [
        "fig=go.Figure()\n",
        "scatterData=axial_data_frame\n",
        "xcol='Index'\n",
        "for ycol in ['Input1','Input2','Input3','Input4']:\n",
        "    fig=go.Figure()\n",
        "    fig.add_trace(go.Scatter(x=scatterData[xcol].to_list(), y=scatterData[ycol].to_list(),mode='markers',name=ycol))\n",
        "    fig.show()"
      ],
      "metadata": {
        "id": "quRQdpVpgsvD"
      },
      "execution_count": null,
      "outputs": []
    },
    {
      "cell_type": "markdown",
      "source": [
        "###Dash plots"
      ],
      "metadata": {
        "id": "mVYi4--sDwao"
      }
    },
    {
      "cell_type": "code",
      "source": [
        "for label in axial_data_frame:\n",
        "  plot_DashPlot(axial_data_frame,label)"
      ],
      "metadata": {
        "id": "-45M8ac4DzSZ"
      },
      "execution_count": null,
      "outputs": []
    },
    {
      "cell_type": "markdown",
      "source": [
        "##Data distributions"
      ],
      "metadata": {
        "id": "yVFrVs7hjj97"
      }
    },
    {
      "cell_type": "markdown",
      "source": [
        "###Histogram Plots"
      ],
      "metadata": {
        "id": "NFBDrZQvjj98"
      }
    },
    {
      "cell_type": "code",
      "source": [
        "for label in axial_data_frame:\n",
        "  plot_histograms(axial_data_frame,label)\n",
        "\n",
        " "
      ],
      "metadata": {
        "id": "hP8YGrcxjj99"
      },
      "execution_count": null,
      "outputs": []
    },
    {
      "cell_type": "markdown",
      "source": [
        "###Scatter Plots"
      ],
      "metadata": {
        "id": "LfChV6Najj9-"
      }
    },
    {
      "cell_type": "code",
      "source": [
        "fig=go.Figure()\n",
        "scatterData=axial_data_frame\n",
        "xcol='Index'\n",
        "for ycol in ['Output1','Output2','Output3','Output4','Output5']:\n",
        "    fig=go.Figure()\n",
        "    fig.add_trace(go.Scatter(x=scatterData[xcol].to_list(), y=scatterData[ycol].to_list(),mode='markers',name=ycol))\n",
        "    fig.show()\n"
      ],
      "metadata": {
        "id": "p794rXaKjj9_"
      },
      "execution_count": null,
      "outputs": []
    },
    {
      "cell_type": "code",
      "source": [
        "fig=go.Figure()\n",
        "scatterData=axial_data_frame\n",
        "xcol='Index'\n",
        "for ycol in ['Input1','Input2','Input3','Input4']:\n",
        "    fig=go.Figure()\n",
        "    fig.add_trace(go.Scatter(x=scatterData[xcol].to_list(), y=scatterData[ycol].to_list(),mode='markers',name=ycol))\n",
        "    fig.show()"
      ],
      "metadata": {
        "id": "bRhu0Lbnjj9_"
      },
      "execution_count": null,
      "outputs": []
    },
    {
      "cell_type": "markdown",
      "source": [
        "###Dash plots"
      ],
      "metadata": {
        "id": "Dpt32j6Ejj-A"
      }
    },
    {
      "cell_type": "code",
      "source": [
        "for label in axial_data_frame:\n",
        "  plot_DashPlot(axial_data_frame,label)"
      ],
      "metadata": {
        "id": "uoLQv1sLjj-B"
      },
      "execution_count": null,
      "outputs": []
    },
    {
      "cell_type": "markdown",
      "source": [
        "##Data Correlation"
      ],
      "metadata": {
        "id": "vj0ih-kZFkBB"
      }
    },
    {
      "cell_type": "markdown",
      "source": [
        "###Input1 and Outputs"
      ],
      "metadata": {
        "id": "dSVBH8cwsuJP"
      }
    },
    {
      "cell_type": "code",
      "source": [
        "fig=go.Figure()\n",
        "scatterData=axial_data_frame\n",
        "xcol='Input1'\n",
        "for ycol in ['Output1','Output2','Output3','Output4','Output5']:\n",
        "    fig=go.Figure()\n",
        "    fig.add_trace(go.Scatter(x=scatterData[xcol].to_list(), y=scatterData[ycol].to_list(),mode='markers',name=ycol))\n",
        "     fig.update(layout_title_text='Variations of ' + xcol + 'vs' +ycol )\n",
        "    fig.show()\n"
      ],
      "metadata": {
        "id": "EK50HtH4F4nI"
      },
      "execution_count": null,
      "outputs": []
    },
    {
      "cell_type": "markdown",
      "source": [
        "###Input2 and Outputs"
      ],
      "metadata": {
        "id": "0okgRGB1s_7F"
      }
    },
    {
      "cell_type": "code",
      "source": [
        "fig=go.Figure()\n",
        "scatterData=axial_data_frame\n",
        "xcol='Input2'\n",
        "for ycol in ['Output1','Output2','Output3','Output4','Output5']:\n",
        "    fig=go.Figure()\n",
        "    fig.add_trace(go.Scatter(x=scatterData[xcol].to_list(), y=scatterData[ycol].to_list(),mode='markers',name=ycol))\n",
        "    fig.update(layout_title_text='Variations of ' + xcol + 'vs' +ycol )\n",
        "    fig.show()"
      ],
      "metadata": {
        "id": "mnSjFKk6tOn4"
      },
      "execution_count": null,
      "outputs": []
    },
    {
      "cell_type": "markdown",
      "source": [
        "###Input3  and Outputs"
      ],
      "metadata": {
        "id": "QNHb13W_tRo9"
      }
    },
    {
      "cell_type": "code",
      "source": [
        "fig=go.Figure()\n",
        "scatterData=axial_data_frame\n",
        "xcol='Input3'\n",
        "for ycol in ['Output1','Output2','Output3','Output4','Output5']:\n",
        "    fig=go.Figure()\n",
        "    fig.add_trace(go.Scatter(x=scatterData[xcol].to_list(), y=scatterData[ycol].to_list(),mode='markers',name=ycol))\n",
        "    fig.update(layout_title_text='Variations of ' + xcol + 'vs' +ycol )\n",
        "    fig.show()"
      ],
      "metadata": {
        "id": "NZk19l2MtVQ2"
      },
      "execution_count": null,
      "outputs": []
    },
    {
      "cell_type": "markdown",
      "source": [
        "###Input4  and Outputs"
      ],
      "metadata": {
        "id": "lhiIvPUZtZtu"
      }
    },
    {
      "cell_type": "code",
      "source": [
        "fig=go.Figure()\n",
        "scatterData=axial_data_frame\n",
        "xcol='Input4'\n",
        "for ycol in ['Output1','Output2','Output3','Output4','Output5']:\n",
        "    fig=go.Figure()\n",
        "    fig.add_trace(go.Scatter(x=scatterData[xcol].to_list(), y=scatterData[ycol].to_list(),mode='markers',name=ycol))\n",
        "    fig.update(layout_title_text='Variations of ' + xcol + 'vs' +ycol )\n",
        "    fig.show()"
      ],
      "metadata": {
        "id": "_GdsU4QKtf3W"
      },
      "execution_count": null,
      "outputs": []
    },
    {
      "cell_type": "markdown",
      "source": [
        "##Heat map\n"
      ],
      "metadata": {
        "id": "jA6lK0vE2DzL"
      }
    },
    {
      "cell_type": "code",
      "source": [
        "corr_matrix = axial_data_frame.corr()\n",
        "fig = px.imshow(corr_matrix)\n",
        "fig.show()\n"
      ],
      "metadata": {
        "id": "isEiT3oZ2PYZ"
      },
      "execution_count": null,
      "outputs": []
    },
    {
      "cell_type": "markdown",
      "source": [
        "#Bending Data"
      ],
      "metadata": {
        "id": "XFqfy2x6jfVk"
      }
    },
    {
      "cell_type": "markdown",
      "source": [
        "##Data distributions"
      ],
      "metadata": {
        "id": "N58u4sXqjxQq"
      }
    },
    {
      "cell_type": "markdown",
      "source": [
        "###Histogram Plots"
      ],
      "metadata": {
        "id": "jKEdS5bUjxQx"
      }
    },
    {
      "cell_type": "code",
      "source": [
        "for label in axial_data_frame:\n",
        "  plot_histograms(axial_data_frame,label)\n",
        "\n",
        " "
      ],
      "metadata": {
        "id": "thsPdpI1jxQx"
      },
      "execution_count": null,
      "outputs": []
    },
    {
      "cell_type": "markdown",
      "source": [
        "###Scatter Plots"
      ],
      "metadata": {
        "id": "fWrOvbxnjxQx"
      }
    },
    {
      "cell_type": "code",
      "source": [
        "fig=go.Figure()\n",
        "scatterData=bending_data_frame\n",
        "xcol='Index'\n",
        "for ycol in ['Output1','Output2','Output3','Output4','Output5']:\n",
        "    fig=go.Figure()\n",
        "    fig.add_trace(go.Scatter(x=scatterData[xcol].to_list(), y=scatterData[ycol].to_list(),mode='markers',name=ycol))\n",
        "    fig.show()\n"
      ],
      "metadata": {
        "id": "kkv_pJVcjxQy"
      },
      "execution_count": null,
      "outputs": []
    },
    {
      "cell_type": "code",
      "source": [
        "fig=go.Figure()\n",
        "scatterData=bending_data_frame\n",
        "xcol='Index'\n",
        "for ycol in ['Input1','Input2','Input3','Input4']:\n",
        "    fig=go.Figure()\n",
        "    fig.add_trace(go.Scatter(x=scatterData[xcol].to_list(), y=scatterData[ycol].to_list(),mode='markers',name=ycol))\n",
        "    fig.show()"
      ],
      "metadata": {
        "id": "TWEaz2AljxQy"
      },
      "execution_count": null,
      "outputs": []
    },
    {
      "cell_type": "markdown",
      "source": [
        "###Dash plots"
      ],
      "metadata": {
        "id": "kbx2aZi0jxQy"
      }
    },
    {
      "cell_type": "code",
      "source": [
        "for label in bending_data_frame:\n",
        "  plot_DashPlot(axial_data_frame,label)"
      ],
      "metadata": {
        "id": "9hEaVAD5jxQy"
      },
      "execution_count": null,
      "outputs": []
    },
    {
      "cell_type": "markdown",
      "source": [
        "##Data Correlation"
      ],
      "metadata": {
        "id": "AWp3KEFukT7-"
      }
    },
    {
      "cell_type": "markdown",
      "source": [
        "###Input1 and Outputs"
      ],
      "metadata": {
        "id": "alJE7s5DkT7-"
      }
    },
    {
      "cell_type": "code",
      "source": [
        "fig=go.Figure()\n",
        "scatterData=bending_data_frame\n",
        "xcol='Input1'\n",
        "for ycol in ['Output1','Output2','Output3','Output4','Output5']:\n",
        "    fig=go.Figure()\n",
        "    fig.add_trace(go.Scatter(x=scatterData[xcol].to_list(), y=scatterData[ycol].to_list(),mode='markers',name=ycol))\n",
        "     fig.update(layout_title_text='Variations of ' + xcol + 'vs' +ycol )\n",
        "    fig.show()\n"
      ],
      "metadata": {
        "id": "TE1hG80ekT7-"
      },
      "execution_count": null,
      "outputs": []
    },
    {
      "cell_type": "markdown",
      "source": [
        "###Input2 and Outputs"
      ],
      "metadata": {
        "id": "cdP3ebbxkT7-"
      }
    },
    {
      "cell_type": "code",
      "source": [
        "fig=go.Figure()\n",
        "scatterData=bending_data_frame\n",
        "xcol='Input2'\n",
        "for ycol in ['Output1','Output2','Output3','Output4','Output5']:\n",
        "    fig=go.Figure()\n",
        "    fig.add_trace(go.Scatter(x=scatterData[xcol].to_list(), y=scatterData[ycol].to_list(),mode='markers',name=ycol))\n",
        "    fig.update(layout_title_text='Variations of ' + xcol + 'vs' +ycol )\n",
        "    fig.show()"
      ],
      "metadata": {
        "id": "ruK8toUikT7_"
      },
      "execution_count": null,
      "outputs": []
    },
    {
      "cell_type": "markdown",
      "source": [
        "###Input3  and Outputs"
      ],
      "metadata": {
        "id": "lgY7GeDokT7_"
      }
    },
    {
      "cell_type": "code",
      "source": [
        "fig=go.Figure()\n",
        "scatterData=bending_data_frame\n",
        "xcol='Input3'\n",
        "for ycol in ['Output1','Output2','Output3','Output4','Output5']:\n",
        "    fig=go.Figure()\n",
        "    fig.add_trace(go.Scatter(x=scatterData[xcol].to_list(), y=scatterData[ycol].to_list(),mode='markers',name=ycol))\n",
        "    fig.update(layout_title_text='Variations of ' + xcol + 'vs' +ycol )\n",
        "    fig.show()"
      ],
      "metadata": {
        "id": "l9G5B1_CkT7_"
      },
      "execution_count": null,
      "outputs": []
    },
    {
      "cell_type": "markdown",
      "source": [
        "###Input4  and Outputs"
      ],
      "metadata": {
        "id": "LpBs2V-DkT7_"
      }
    },
    {
      "cell_type": "code",
      "source": [
        "fig=go.Figure()\n",
        "scatterData=bending_data_frame\n",
        "xcol='Input4'\n",
        "for ycol in ['Output1','Output2','Output3','Output4','Output5']:\n",
        "    fig=go.Figure()\n",
        "    fig.add_trace(go.Scatter(x=scatterData[xcol].to_list(), y=scatterData[ycol].to_list(),mode='markers',name=ycol))\n",
        "    fig.update(layout_title_text='Variations of ' + xcol + 'vs' +ycol )\n",
        "    fig.show()"
      ],
      "metadata": {
        "id": "dgM_d3k-kT7_"
      },
      "execution_count": null,
      "outputs": []
    },
    {
      "cell_type": "markdown",
      "source": [
        "##Heat map\n"
      ],
      "metadata": {
        "id": "N3thkd9KkY-R"
      }
    },
    {
      "cell_type": "code",
      "source": [
        "corr_matrix = bending_data_frame.corr()\n",
        "fig = px.imshow(corr_matrix)\n",
        "fig.show()\n"
      ],
      "metadata": {
        "id": "5FbE7uP7lL1k"
      },
      "execution_count": null,
      "outputs": []
    },
    {
      "cell_type": "markdown",
      "source": [
        "#Twisting Data"
      ],
      "metadata": {
        "id": "azYKopH4klqT"
      }
    },
    {
      "cell_type": "markdown",
      "source": [
        "##Data distributions"
      ],
      "metadata": {
        "id": "KVP6GK0MklqU"
      }
    },
    {
      "cell_type": "markdown",
      "source": [
        "###Histogram Plots"
      ],
      "metadata": {
        "id": "_BjhcYoCklqV"
      }
    },
    {
      "cell_type": "code",
      "source": [
        "for label in twisting_data_frame:\n",
        "  plot_histograms(twisting_data_frame,label)\n",
        "\n",
        " "
      ],
      "metadata": {
        "id": "kqpLE9U_klqW"
      },
      "execution_count": null,
      "outputs": []
    },
    {
      "cell_type": "markdown",
      "source": [
        "###Scatter Plots"
      ],
      "metadata": {
        "id": "fpYfVcJjklqW"
      }
    },
    {
      "cell_type": "code",
      "source": [
        "fig=go.Figure()\n",
        "scatterData=twisting_data_frame\n",
        "xcol='Index'\n",
        "for ycol in ['Output1','Output2','Output3','Output4','Output5']:\n",
        "    fig=go.Figure()\n",
        "    fig.add_trace(go.Scatter(x=scatterData[xcol].to_list(), y=scatterData[ycol].to_list(),mode='markers',name=ycol))\n",
        "    fig.show()\n"
      ],
      "metadata": {
        "id": "p3HTPcHPklqX"
      },
      "execution_count": null,
      "outputs": []
    },
    {
      "cell_type": "code",
      "source": [
        "fig=go.Figure()\n",
        "scatterData=twisting_data_frame\n",
        "xcol='Index'\n",
        "for ycol in ['Input1','Input2','Input3','Input4']:\n",
        "    fig=go.Figure()\n",
        "    fig.add_trace(go.Scatter(x=scatterData[xcol].to_list(), y=scatterData[ycol].to_list(),mode='markers',name=ycol))\n",
        "    fig.show()"
      ],
      "metadata": {
        "id": "4PRnW7bkklqY"
      },
      "execution_count": null,
      "outputs": []
    },
    {
      "cell_type": "markdown",
      "source": [
        "###Dash plots"
      ],
      "metadata": {
        "id": "wAPYP2GYklqZ"
      }
    },
    {
      "cell_type": "code",
      "source": [
        "for label in twisting_data_frame:\n",
        "  plot_DashPlot(axial_data_frame,label)"
      ],
      "metadata": {
        "id": "44hHL5LmklqZ"
      },
      "execution_count": null,
      "outputs": []
    },
    {
      "cell_type": "markdown",
      "source": [
        "##Data Correlation"
      ],
      "metadata": {
        "id": "iyIKz_sfklqa"
      }
    },
    {
      "cell_type": "markdown",
      "source": [
        "###Input1 and Outputs"
      ],
      "metadata": {
        "id": "aJ8lv6yyklqa"
      }
    },
    {
      "cell_type": "code",
      "source": [
        "fig=go.Figure()\n",
        "scatterData=twisting_data_frame\n",
        "xcol='Input1'\n",
        "for ycol in ['Output1','Output2','Output3','Output4','Output5']:\n",
        "    fig=go.Figure()\n",
        "    fig.add_trace(go.Scatter(x=scatterData[xcol].to_list(), y=scatterData[ycol].to_list(),mode='markers',name=ycol))\n",
        "     fig.update(layout_title_text='Variations of ' + xcol + 'vs' +ycol )\n",
        "    fig.show()\n"
      ],
      "metadata": {
        "id": "vw_2-47Uklqb"
      },
      "execution_count": null,
      "outputs": []
    },
    {
      "cell_type": "markdown",
      "source": [
        "###Input2 and Outputs"
      ],
      "metadata": {
        "id": "5xF3Xm0_klqc"
      }
    },
    {
      "cell_type": "code",
      "source": [
        "fig=go.Figure()\n",
        "scatterData=twisting_data_frame\n",
        "xcol='Input2'\n",
        "for ycol in ['Output1','Output2','Output3','Output4','Output5']:\n",
        "    fig=go.Figure()\n",
        "    fig.add_trace(go.Scatter(x=scatterData[xcol].to_list(), y=scatterData[ycol].to_list(),mode='markers',name=ycol))\n",
        "    fig.update(layout_title_text='Variations of ' + xcol + 'vs' +ycol )\n",
        "    fig.show()"
      ],
      "metadata": {
        "id": "o_SCPtETklqc"
      },
      "execution_count": null,
      "outputs": []
    },
    {
      "cell_type": "markdown",
      "source": [
        "###Input3  and Outputs"
      ],
      "metadata": {
        "id": "Bfh-J9Zvklqd"
      }
    },
    {
      "cell_type": "code",
      "source": [
        "fig=go.Figure()\n",
        "scatterData=twisting_data_frame\n",
        "xcol='Input3'\n",
        "for ycol in ['Output1','Output2','Output3','Output4','Output5']:\n",
        "    fig=go.Figure()\n",
        "    fig.add_trace(go.Scatter(x=scatterData[xcol].to_list(), y=scatterData[ycol].to_list(),mode='markers',name=ycol))\n",
        "    fig.update(layout_title_text='Variations of ' + xcol + 'vs' +ycol )\n",
        "    fig.show()"
      ],
      "metadata": {
        "id": "4mBh7lQuklqd"
      },
      "execution_count": null,
      "outputs": []
    },
    {
      "cell_type": "markdown",
      "source": [
        "###Input4  and Outputs"
      ],
      "metadata": {
        "id": "rQrrKfvjklqe"
      }
    },
    {
      "cell_type": "code",
      "source": [
        "fig=go.Figure()\n",
        "scatterData=twisting_data_frame\n",
        "xcol='Input4'\n",
        "for ycol in ['Output1','Output2','Output3','Output4','Output5']:\n",
        "    fig=go.Figure()\n",
        "    fig.add_trace(go.Scatter(x=scatterData[xcol].to_list(), y=scatterData[ycol].to_list(),mode='markers',name=ycol))\n",
        "    fig.update(layout_title_text='Variations of ' + xcol + 'vs' +ycol )\n",
        "    fig.show()"
      ],
      "metadata": {
        "id": "qJo1IFWaklqe"
      },
      "execution_count": null,
      "outputs": []
    },
    {
      "cell_type": "markdown",
      "source": [
        "##Heat map\n"
      ],
      "metadata": {
        "id": "2h7dJmH0klqf"
      }
    }
  ]
}